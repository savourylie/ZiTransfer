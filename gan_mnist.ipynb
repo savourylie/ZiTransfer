{
 "cells": [
  {
   "cell_type": "code",
   "execution_count": 33,
   "metadata": {},
   "outputs": [],
   "source": [
    "import random\n",
    "import time\n",
    "\n",
    "import matplotlib.pyplot as plt\n",
    "import numpy as np\n",
    "import torch\n",
    "import torch.nn as nn\n",
    "import torch.nn.functional as F\n",
    "import torch.optim as optim\n",
    "from torch.autograd import Variable\n",
    "from torch.utils.data.sampler import SubsetRandomSampler\n",
    "from torchvision import datasets, transforms"
   ]
  },
  {
   "cell_type": "code",
   "execution_count": 30,
   "metadata": {},
   "outputs": [],
   "source": [
    "def data_loaders(root, batch_size, valid_size=0.1, option='cifar10', cuda=False, random_seed=1113):\n",
    "    # Prepare datasets\n",
    "    kwargs = {'num_workers': 8, 'pin_memory': True} if torch.cuda.is_available() and cuda else {}\n",
    "\n",
    "    if option == 'cifar10':\n",
    "        # Load CIFAR10 dataset\n",
    "        transform_train = transforms.Compose([transforms.RandomCrop(32, padding=4),\n",
    "                                              transforms.RandomHorizontalFlip(),\n",
    "                                              transforms.ToTensor(),\n",
    "                                              transforms.Normalize((0.4914, 0.4822, 0.4465), (0.247, 0.243, 0.261)),\n",
    "                                              Cutout(n_holes=1, length=16)\n",
    "                                              ])\n",
    "\n",
    "        transform_test = transforms.Compose([transforms.ToTensor(),\n",
    "                                             transforms.Normalize((0.4914, 0.4822, 0.4465), (0.247, 0.243, 0.261))\n",
    "                                             ])\n",
    "\n",
    "        training_set = datasets.CIFAR10(root=root, train=True, download=True, transform=transform_train)\n",
    "        validation_set = datasets.CIFAR10(root=root, train=True, transform=transform_test)\n",
    "        test_set = datasets.CIFAR10(root=root, train=False, transform=transform_test)\n",
    "\n",
    "        # classes = ('plane', 'car', 'bird', 'cat', 'deer', 'dog', 'frog', 'horse', 'ship', 'truck')\n",
    "\n",
    "    elif option == 'mnist':\n",
    "        # Load MNIST\n",
    "        transform_train = transforms.Compose([transforms.ToTensor(),\n",
    "                                              transforms.Normalize((0.1307,), (0.3081,))\n",
    "                                              ])\n",
    "\n",
    "        transform_test = transforms.Compose([transforms.ToTensor(),\n",
    "                                             transforms.Normalize((0.1307,), (0.3081,))\n",
    "                                             ])\n",
    "\n",
    "        training_set = datasets.MNIST(root=root, train=True, download=True, transform=transform_train)\n",
    "        validation_set = datasets.MNIST(root=root, train=True, transform=transform_test)\n",
    "        test_set = datasets.MNIST(root=root, train=False, transform=transform_test)\n",
    "        # classes = tuple(range(10))\n",
    "\n",
    "    else:\n",
    "        raise ValueError(\"Data option not supported.\")\n",
    "\n",
    "    valid_size = valid_size\n",
    "    num_train = len(training_set)\n",
    "    indices = list(range(num_train))\n",
    "    split = int(np.floor(valid_size * num_train))\n",
    "\n",
    "    np.random.seed(random_seed)\n",
    "    np.random.shuffle(indices)\n",
    "\n",
    "    train_idx, valid_idx = indices[split:], indices[:split]\n",
    "    train_sampler, valid_sampler = SubsetRandomSampler(train_idx), SubsetRandomSampler(valid_idx)\n",
    "\n",
    "    train_loader = torch.utils.data.DataLoader(training_set, batch_size=batch_size,\n",
    "                                               sampler=train_sampler, **kwargs)\n",
    "    valid_loader = torch.utils.data.DataLoader(validation_set, batch_size=batch_size,\n",
    "                                               sampler=valid_sampler, **kwargs)\n",
    "\n",
    "    full_train_loader = torch.utils.data.DataLoader(training_set, batch_size=batch_size, shuffle=True, **kwargs)\n",
    "    test_loader = torch.utils.data.DataLoader(test_set, batch_size=batch_size, shuffle=True, **kwargs)\n",
    "\n",
    "    return train_loader, valid_loader, full_train_loader, test_loader, valid_size"
   ]
  },
  {
   "cell_type": "code",
   "execution_count": 31,
   "metadata": {},
   "outputs": [],
   "source": [
    "data_path = \"data/\"\n",
    "\n",
    "\n",
    "train_loader, valid_loader, full_train_loader, test_loader, valid_size \\\n",
    "                = data_loaders(root=data_path, batch_size=128, valid_size=0.3,\n",
    "                                   option='mnist', cuda=True)"
   ]
  },
  {
   "cell_type": "code",
   "execution_count": 32,
   "metadata": {},
   "outputs": [
    {
     "name": "stdout",
     "output_type": "stream",
     "text": [
      "torch.Size([128, 1, 28, 28])\n"
     ]
    }
   ],
   "source": [
    "print(next(enumerate(train_loader))[1][0].shape)"
   ]
  },
  {
   "cell_type": "code",
   "execution_count": 61,
   "metadata": {},
   "outputs": [],
   "source": [
    "class Generator(nn.Module):\n",
    "    def __init__(self):\n",
    "        super().__init__()\n",
    "        self.fc1 = nn.Linear(100, 256)\n",
    "        self.fc2 = nn.Linear(256, 512)\n",
    "        self.fc3 = nn.Linear(512, 1024)\n",
    "        self.fc4 = nn.Linear(1024, 784)\n",
    "        \n",
    "    def forward(self, x):\n",
    "        x = self.fc1(x)\n",
    "        x = F.leaky_relu(x, 0.2)\n",
    "        x = self.fc2(x)\n",
    "        x = F.leaky_relu(x, 0.2)\n",
    "        x = self.fc3(x)\n",
    "        x = F.leaky_relu(x, 0.2)\n",
    "        x = self.fc4(x)\n",
    "        x = F.dropout(x, 0.3)\n",
    "        \n",
    "        return x\n",
    "    \n",
    "class Discriminator(nn.Module):\n",
    "    def __init__(self):\n",
    "        super().__init__()\n",
    "        self.fc1 = nn.Linear(784, 1024)\n",
    "        self.fc2 = nn.Linear(1024, 512)\n",
    "        self.fc3 = nn.Linear(512, 256)\n",
    "        self.fc4 = nn.Linear(256, 1)\n",
    "        \n",
    "    def forward(self, x):\n",
    "        x = self.fc1(x)\n",
    "        x = F.leaky_relu(x, 0.2)\n",
    "        x = F.dropout(x, 0.3)\n",
    "        x = self.fc2(x)\n",
    "        x = F.leaky_relu(x, 0.2)\n",
    "        x = F.dropout(x, 0.3)\n",
    "        x = self.fc3(x)\n",
    "        x = F.leaky_relu(x, 0.2)\n",
    "        x = F.dropout(x, 0.3)\n",
    "        x = self.fc4(x)\n",
    "        x = F.sigmoid(x)\n",
    "        \n",
    "        return x"
   ]
  },
  {
   "cell_type": "code",
   "execution_count": 120,
   "metadata": {},
   "outputs": [],
   "source": [
    "def train(generator, discriminator, data_loader, epochs=100, log_interval=10):\n",
    "    if torch.cuda.is_available():\n",
    "        generator = generator.cuda()\n",
    "        discriminator = discriminator.cuda()\n",
    "        \n",
    "    g_optimizer = optim.Adam(generator.parameters(), lr=0.0002)\n",
    "    d_optimizer = optim.Adam(discriminator.parameters(), lr=0.0002)\n",
    "        \n",
    "    for epoch in range(1, epochs + 1):\n",
    "        for batch_idx, (data, target) in enumerate(train_loader, 1):\n",
    "            if torch.cuda.is_available():\n",
    "                data, target = data.cuda(), target.cuda()\n",
    "                \n",
    "            batch_size = data.shape[0]\n",
    "            \n",
    "            g_optimizer.zero_grad()\n",
    "            d_optimizer.zero_grad()\n",
    "            \n",
    "            z_input = torch.randn(batch_size, 100)\n",
    "            \n",
    "            if torch.cuda.is_available():\n",
    "                z_input = z_input.cuda()\n",
    "                \n",
    "            g_output = generator(z_input)\n",
    "        \n",
    "            fake_labels = torch.ones(batch_size)\n",
    "            real_labels = torch.zeros(batch_size)    \n",
    "            \n",
    "            if torch.cuda.is_available():\n",
    "                fake_labels = fake_labels.cuda()\n",
    "                real_labels = real_labels.cuda()\n",
    "\n",
    "            d_output_fake = discriminator(g_output)\n",
    "            d_output_real = discriminator(data.view(-1, data.size(1) * data.size(2) * data.size(3)))\n",
    "            \n",
    "            fake_loss =  F.binary_cross_entropy(d_output_fake, fake_labels)\n",
    "            real_loss = F.binary_cross_entropy(d_output_real, real_labels)\n",
    "            d_loss = fake_loss + real_loss\n",
    "            g_loss = -fake_loss\n",
    "\n",
    "            d_loss.backward(retain_graph=True)\n",
    "            g_loss.backward()\n",
    "\n",
    "            g_optimizer.step()\n",
    "            d_optimizer.step()\n",
    "                    \n",
    "            if batch_idx % 100 == 0:\n",
    "                print('Train Epoch: {} [Iter: {}]\\t Gloss: {:.6f} Dloss: {:.6f}'.format(\n",
    "                      epoch, batch_idx, g_loss.data.item(), d_loss.data.item()))\n",
    "                    \n",
    "                \n",
    "        if not epoch % log_interval:\n",
    "            images_torch = g_output.view(-1, 1, 28, 28)\n",
    "            images = images_torch.cpu().detach().numpy()\n",
    "            img = images[0]\n",
    "            print(img.shape)\n",
    "            img = np.rollaxis(img, 0, 3).squeeze(2)                       \n",
    "            print(img.shape)\n",
    "            plt.figure(figsize=(4, 4))\n",
    "            plt.imshow(img, cmap='gray')\n",
    "            plt.show()\n",
    "        "
   ]
  },
  {
   "cell_type": "code",
   "execution_count": 121,
   "metadata": {},
   "outputs": [],
   "source": [
    "g_model = Generator()\n",
    "d_model = Discriminator()"
   ]
  },
  {
   "cell_type": "code",
   "execution_count": 122,
   "metadata": {},
   "outputs": [
    {
     "name": "stdout",
     "output_type": "stream",
     "text": [
      "Train Epoch: 1 [Iter: 100]\t Gloss: -0.798105 Dloss: 0.798106\n",
      "Train Epoch: 1 [Iter: 200]\t Gloss: -0.794137 Dloss: 0.794137\n",
      "Train Epoch: 1 [Iter: 300]\t Gloss: -0.796919 Dloss: 0.796919\n",
      "Train Epoch: 2 [Iter: 100]\t Gloss: -0.797748 Dloss: 0.797748\n",
      "Train Epoch: 2 [Iter: 200]\t Gloss: -0.795564 Dloss: 0.795564\n",
      "Train Epoch: 2 [Iter: 300]\t Gloss: -0.796523 Dloss: 0.796523\n",
      "Train Epoch: 3 [Iter: 100]\t Gloss: -0.797858 Dloss: 0.797858\n",
      "Train Epoch: 3 [Iter: 200]\t Gloss: -0.798877 Dloss: 0.798877\n",
      "Train Epoch: 3 [Iter: 300]\t Gloss: -0.799011 Dloss: 0.799012\n",
      "Train Epoch: 4 [Iter: 100]\t Gloss: -0.796869 Dloss: 0.796869\n",
      "Train Epoch: 4 [Iter: 200]\t Gloss: -0.793236 Dloss: 0.793239\n",
      "Train Epoch: 4 [Iter: 300]\t Gloss: -0.792961 Dloss: 0.792961\n",
      "Train Epoch: 5 [Iter: 100]\t Gloss: -0.795920 Dloss: 0.795920\n",
      "Train Epoch: 5 [Iter: 200]\t Gloss: -0.796368 Dloss: 0.796368\n",
      "Train Epoch: 5 [Iter: 300]\t Gloss: -0.800466 Dloss: 0.800466\n",
      "Train Epoch: 6 [Iter: 100]\t Gloss: -0.800902 Dloss: 0.800902\n",
      "Train Epoch: 6 [Iter: 200]\t Gloss: -0.798228 Dloss: 0.798228\n",
      "Train Epoch: 6 [Iter: 300]\t Gloss: -0.799034 Dloss: 0.799034\n",
      "Train Epoch: 7 [Iter: 100]\t Gloss: -0.797315 Dloss: 0.797315\n",
      "Train Epoch: 7 [Iter: 200]\t Gloss: -0.798688 Dloss: 0.798688\n",
      "Train Epoch: 7 [Iter: 300]\t Gloss: -0.799868 Dloss: 0.799869\n",
      "Train Epoch: 8 [Iter: 100]\t Gloss: -0.799295 Dloss: 0.799296\n",
      "Train Epoch: 8 [Iter: 200]\t Gloss: -0.797530 Dloss: 0.797530\n",
      "Train Epoch: 8 [Iter: 300]\t Gloss: -0.802215 Dloss: 0.802215\n",
      "Train Epoch: 9 [Iter: 100]\t Gloss: -0.797255 Dloss: 0.797255\n",
      "Train Epoch: 9 [Iter: 200]\t Gloss: -0.797749 Dloss: 0.797749\n",
      "Train Epoch: 9 [Iter: 300]\t Gloss: -0.799309 Dloss: 0.799309\n",
      "Train Epoch: 10 [Iter: 100]\t Gloss: -0.799998 Dloss: 0.799998\n",
      "Train Epoch: 10 [Iter: 200]\t Gloss: -0.799479 Dloss: 0.799479\n",
      "Train Epoch: 10 [Iter: 300]\t Gloss: -0.803235 Dloss: 0.803235\n",
      "(1, 28, 28)\n",
      "(28, 28)\n"
     ]
    },
    {
     "data": {
      "image/png": "[encoded data removed]",
      "text/plain": [
       "<Figure size 288x288 with 1 Axes>"
      ]
     },
     "metadata": {
      "needs_background": "light"
     },
     "output_type": "display_data"
    },
    {
     "name": "stdout",
     "output_type": "stream",
     "text": [
      "Train Epoch: 11 [Iter: 100]\t Gloss: -0.799301 Dloss: 0.799301\n",
      "Train Epoch: 11 [Iter: 200]\t Gloss: -0.797972 Dloss: 0.797972\n",
      "Train Epoch: 11 [Iter: 300]\t Gloss: -0.798024 Dloss: 0.798024\n",
      "Train Epoch: 12 [Iter: 100]\t Gloss: -0.799584 Dloss: 0.799584\n",
      "Train Epoch: 12 [Iter: 200]\t Gloss: -0.801483 Dloss: 0.801483\n",
      "Train Epoch: 12 [Iter: 300]\t Gloss: -0.802419 Dloss: 0.802419\n",
      "Train Epoch: 13 [Iter: 100]\t Gloss: -0.801071 Dloss: 0.801071\n",
      "Train Epoch: 13 [Iter: 200]\t Gloss: -0.800321 Dloss: 0.800321\n",
      "Train Epoch: 13 [Iter: 300]\t Gloss: -0.800655 Dloss: 0.800655\n",
      "Train Epoch: 14 [Iter: 100]\t Gloss: -0.800699 Dloss: 0.800700\n",
      "Train Epoch: 14 [Iter: 200]\t Gloss: -0.798715 Dloss: 0.798715\n",
      "Train Epoch: 14 [Iter: 300]\t Gloss: -0.803685 Dloss: 0.803685\n",
      "Train Epoch: 15 [Iter: 100]\t Gloss: -0.803289 Dloss: 0.803289\n",
      "Train Epoch: 15 [Iter: 200]\t Gloss: -0.802437 Dloss: 0.802437\n",
      "Train Epoch: 15 [Iter: 300]\t Gloss: -0.804362 Dloss: 0.804362\n",
      "Train Epoch: 16 [Iter: 100]\t Gloss: -0.801857 Dloss: 0.801857\n",
      "Train Epoch: 16 [Iter: 200]\t Gloss: -0.803223 Dloss: 0.803223\n",
      "Train Epoch: 16 [Iter: 300]\t Gloss: -0.797913 Dloss: 0.797913\n",
      "Train Epoch: 17 [Iter: 100]\t Gloss: -0.804971 Dloss: 0.804971\n",
      "Train Epoch: 17 [Iter: 200]\t Gloss: -0.805028 Dloss: 0.805028\n",
      "Train Epoch: 17 [Iter: 300]\t Gloss: -0.805499 Dloss: 0.805499\n",
      "Train Epoch: 18 [Iter: 100]\t Gloss: -0.804449 Dloss: 0.804449\n",
      "Train Epoch: 18 [Iter: 200]\t Gloss: -0.804134 Dloss: 0.804134\n",
      "Train Epoch: 18 [Iter: 300]\t Gloss: -0.802480 Dloss: 0.802480\n",
      "Train Epoch: 19 [Iter: 100]\t Gloss: -0.805462 Dloss: 0.805462\n",
      "Train Epoch: 19 [Iter: 200]\t Gloss: -0.804883 Dloss: 0.804883\n",
      "Train Epoch: 19 [Iter: 300]\t Gloss: -0.807835 Dloss: 0.807835\n",
      "Train Epoch: 20 [Iter: 100]\t Gloss: -0.802695 Dloss: 0.802695\n",
      "Train Epoch: 20 [Iter: 200]\t Gloss: -0.805300 Dloss: 0.805300\n",
      "Train Epoch: 20 [Iter: 300]\t Gloss: -0.805909 Dloss: 0.805909\n",
      "(1, 28, 28)\n",
      "(28, 28)\n"
     ]
    },
    {
     "data": {
      "image/png": "[encoded data removed]",
      "text/plain": [
       "<Figure size 288x288 with 1 Axes>"
      ]
     },
     "metadata": {
      "needs_background": "light"
     },
     "output_type": "display_data"
    },
    {
     "name": "stdout",
     "output_type": "stream",
     "text": [
      "Train Epoch: 21 [Iter: 100]\t Gloss: -0.804799 Dloss: 0.804799\n",
      "Train Epoch: 21 [Iter: 200]\t Gloss: -0.809595 Dloss: 0.809595\n",
      "Train Epoch: 21 [Iter: 300]\t Gloss: -0.809058 Dloss: 0.809058\n",
      "Train Epoch: 22 [Iter: 100]\t Gloss: -0.804868 Dloss: 0.804868\n",
      "Train Epoch: 22 [Iter: 200]\t Gloss: -0.808689 Dloss: 0.808689\n",
      "Train Epoch: 22 [Iter: 300]\t Gloss: -0.808844 Dloss: 0.808844\n",
      "Train Epoch: 23 [Iter: 100]\t Gloss: -0.811004 Dloss: 0.811004\n",
      "Train Epoch: 23 [Iter: 200]\t Gloss: -0.806059 Dloss: 0.806059\n",
      "Train Epoch: 23 [Iter: 300]\t Gloss: -0.810034 Dloss: 0.810034\n",
      "Train Epoch: 24 [Iter: 100]\t Gloss: -0.813570 Dloss: 0.813570\n",
      "Train Epoch: 24 [Iter: 200]\t Gloss: -0.810231 Dloss: 0.810231\n",
      "Train Epoch: 24 [Iter: 300]\t Gloss: -0.811055 Dloss: 0.811055\n",
      "Train Epoch: 25 [Iter: 100]\t Gloss: -0.808054 Dloss: 0.808054\n",
      "Train Epoch: 25 [Iter: 200]\t Gloss: -0.810484 Dloss: 0.810484\n",
      "Train Epoch: 25 [Iter: 300]\t Gloss: -0.813156 Dloss: 0.813156\n",
      "Train Epoch: 26 [Iter: 100]\t Gloss: -0.810322 Dloss: 0.810322\n",
      "Train Epoch: 26 [Iter: 200]\t Gloss: -0.810758 Dloss: 0.810758\n",
      "Train Epoch: 26 [Iter: 300]\t Gloss: -0.808002 Dloss: 0.808002\n",
      "Train Epoch: 27 [Iter: 100]\t Gloss: -0.810100 Dloss: 0.810100\n",
      "Train Epoch: 27 [Iter: 200]\t Gloss: -0.812300 Dloss: 0.812300\n",
      "Train Epoch: 27 [Iter: 300]\t Gloss: -0.814010 Dloss: 0.814010\n",
      "Train Epoch: 28 [Iter: 100]\t Gloss: -0.809556 Dloss: 0.809556\n",
      "Train Epoch: 28 [Iter: 200]\t Gloss: -0.810262 Dloss: 0.810262\n",
      "Train Epoch: 28 [Iter: 300]\t Gloss: -0.814471 Dloss: 0.814471\n",
      "Train Epoch: 29 [Iter: 100]\t Gloss: -0.811008 Dloss: 0.811008\n",
      "Train Epoch: 29 [Iter: 200]\t Gloss: -0.811518 Dloss: 0.811518\n",
      "Train Epoch: 29 [Iter: 300]\t Gloss: -0.814175 Dloss: 0.814175\n",
      "Train Epoch: 30 [Iter: 100]\t Gloss: -0.811743 Dloss: 0.811743\n",
      "Train Epoch: 30 [Iter: 200]\t Gloss: -0.815116 Dloss: 0.815116\n",
      "Train Epoch: 30 [Iter: 300]\t Gloss: -0.811705 Dloss: 0.811705\n",
      "(1, 28, 28)\n",
      "(28, 28)\n"
     ]
    },
    {
     "data": {
      "image/png": "[encoded data removed]",
      "text/plain": [
       "<Figure size 288x288 with 1 Axes>"
      ]
     },
     "metadata": {
      "needs_background": "light"
     },
     "output_type": "display_data"
    },
    {
     "name": "stdout",
     "output_type": "stream",
     "text": [
      "Train Epoch: 31 [Iter: 100]\t Gloss: -0.814755 Dloss: 0.814755\n",
      "Train Epoch: 31 [Iter: 200]\t Gloss: -0.817333 Dloss: 0.817333\n",
      "Train Epoch: 31 [Iter: 300]\t Gloss: -0.811074 Dloss: 0.811074\n",
      "Train Epoch: 32 [Iter: 100]\t Gloss: -0.814249 Dloss: 0.814249\n",
      "Train Epoch: 32 [Iter: 200]\t Gloss: -0.813442 Dloss: 0.813442\n",
      "Train Epoch: 32 [Iter: 300]\t Gloss: -0.815108 Dloss: 0.815108\n",
      "Train Epoch: 33 [Iter: 100]\t Gloss: -0.815248 Dloss: 0.815248\n",
      "Train Epoch: 33 [Iter: 200]\t Gloss: -0.817077 Dloss: 0.817077\n",
      "Train Epoch: 33 [Iter: 300]\t Gloss: -0.818850 Dloss: 0.818850\n",
      "Train Epoch: 34 [Iter: 100]\t Gloss: -0.814209 Dloss: 0.814209\n",
      "Train Epoch: 34 [Iter: 200]\t Gloss: -0.819804 Dloss: 0.819804\n",
      "Train Epoch: 34 [Iter: 300]\t Gloss: -0.812564 Dloss: 0.812564\n",
      "Train Epoch: 35 [Iter: 100]\t Gloss: -0.818038 Dloss: 0.818038\n",
      "Train Epoch: 35 [Iter: 200]\t Gloss: -0.818019 Dloss: 0.818019\n",
      "Train Epoch: 35 [Iter: 300]\t Gloss: -0.819610 Dloss: 0.819610\n",
      "Train Epoch: 36 [Iter: 100]\t Gloss: -0.817576 Dloss: 0.817576\n",
      "Train Epoch: 36 [Iter: 200]\t Gloss: -0.820316 Dloss: 0.820316\n",
      "Train Epoch: 36 [Iter: 300]\t Gloss: -0.816945 Dloss: 0.816945\n",
      "Train Epoch: 37 [Iter: 100]\t Gloss: -0.812871 Dloss: 0.812871\n",
      "Train Epoch: 37 [Iter: 200]\t Gloss: -0.817532 Dloss: 0.817532\n",
      "Train Epoch: 37 [Iter: 300]\t Gloss: -0.819259 Dloss: 0.819259\n",
      "Train Epoch: 38 [Iter: 100]\t Gloss: -0.823972 Dloss: 0.823972\n",
      "Train Epoch: 38 [Iter: 200]\t Gloss: -0.820703 Dloss: 0.820703\n",
      "Train Epoch: 38 [Iter: 300]\t Gloss: -0.820299 Dloss: 0.820299\n",
      "Train Epoch: 39 [Iter: 100]\t Gloss: -0.818072 Dloss: 0.818072\n",
      "Train Epoch: 39 [Iter: 200]\t Gloss: -0.821096 Dloss: 0.821096\n",
      "Train Epoch: 39 [Iter: 300]\t Gloss: -0.820152 Dloss: 0.820152\n",
      "Train Epoch: 40 [Iter: 100]\t Gloss: -0.821543 Dloss: 0.821543\n",
      "Train Epoch: 40 [Iter: 200]\t Gloss: -0.823081 Dloss: 0.823081\n",
      "Train Epoch: 40 [Iter: 300]\t Gloss: -0.824687 Dloss: 0.824687\n",
      "(1, 28, 28)\n",
      "(28, 28)\n"
     ]
    },
    {
     "data": {
      "image/png": "[encoded data removed]",
      "text/plain": [
       "<Figure size 288x288 with 1 Axes>"
      ]
     },
     "metadata": {
      "needs_background": "light"
     },
     "output_type": "display_data"
    },
    {
     "name": "stdout",
     "output_type": "stream",
     "text": [
      "Train Epoch: 41 [Iter: 100]\t Gloss: -0.820318 Dloss: 0.820318\n",
      "Train Epoch: 41 [Iter: 200]\t Gloss: -0.820522 Dloss: 0.820522\n",
      "Train Epoch: 41 [Iter: 300]\t Gloss: -0.818575 Dloss: 0.818575\n",
      "Train Epoch: 42 [Iter: 100]\t Gloss: -0.821552 Dloss: 0.821552\n",
      "Train Epoch: 42 [Iter: 200]\t Gloss: -0.826535 Dloss: 0.826535\n",
      "Train Epoch: 42 [Iter: 300]\t Gloss: -0.824083 Dloss: 0.824083\n",
      "Train Epoch: 43 [Iter: 100]\t Gloss: -0.821959 Dloss: 0.821959\n",
      "Train Epoch: 43 [Iter: 200]\t Gloss: -0.827088 Dloss: 0.827088\n",
      "Train Epoch: 43 [Iter: 300]\t Gloss: -0.820433 Dloss: 0.820433\n",
      "Train Epoch: 44 [Iter: 100]\t Gloss: -0.826689 Dloss: 0.826689\n",
      "Train Epoch: 44 [Iter: 200]\t Gloss: -0.824718 Dloss: 0.824718\n",
      "Train Epoch: 44 [Iter: 300]\t Gloss: -0.819443 Dloss: 0.819443\n",
      "Train Epoch: 45 [Iter: 100]\t Gloss: -0.818988 Dloss: 0.818988\n",
      "Train Epoch: 45 [Iter: 200]\t Gloss: -0.820641 Dloss: 0.820641\n",
      "Train Epoch: 45 [Iter: 300]\t Gloss: -0.823323 Dloss: 0.823323\n",
      "Train Epoch: 46 [Iter: 100]\t Gloss: -0.818880 Dloss: 0.818880\n",
      "Train Epoch: 46 [Iter: 200]\t Gloss: -0.825342 Dloss: 0.825342\n",
      "Train Epoch: 46 [Iter: 300]\t Gloss: -0.827192 Dloss: 0.827192\n",
      "Train Epoch: 47 [Iter: 100]\t Gloss: -0.826468 Dloss: 0.826468\n",
      "Train Epoch: 47 [Iter: 200]\t Gloss: -0.828900 Dloss: 0.828900\n",
      "Train Epoch: 47 [Iter: 300]\t Gloss: -0.825507 Dloss: 0.825507\n",
      "Train Epoch: 48 [Iter: 100]\t Gloss: -0.826888 Dloss: 0.826888\n",
      "Train Epoch: 48 [Iter: 200]\t Gloss: -0.824681 Dloss: 0.824681\n",
      "Train Epoch: 48 [Iter: 300]\t Gloss: -0.824544 Dloss: 0.824544\n",
      "Train Epoch: 49 [Iter: 100]\t Gloss: -0.826862 Dloss: 0.826862\n",
      "Train Epoch: 49 [Iter: 200]\t Gloss: -0.825035 Dloss: 0.825035\n",
      "Train Epoch: 49 [Iter: 300]\t Gloss: -0.824712 Dloss: 0.824712\n",
      "Train Epoch: 50 [Iter: 100]\t Gloss: -0.826418 Dloss: 0.826418\n",
      "Train Epoch: 50 [Iter: 200]\t Gloss: -0.823827 Dloss: 0.823827\n",
      "Train Epoch: 50 [Iter: 300]\t Gloss: -0.828229 Dloss: 0.828229\n",
      "(1, 28, 28)\n",
      "(28, 28)\n"
     ]
    },
    {
     "data": {
      "image/png": "[encoded data removed]",
      "text/plain": [
       "<Figure size 288x288 with 1 Axes>"
      ]
     },
     "metadata": {
      "needs_background": "light"
     },
     "output_type": "display_data"
    },
    {
     "name": "stdout",
     "output_type": "stream",
     "text": [
      "Train Epoch: 51 [Iter: 100]\t Gloss: -0.824707 Dloss: 0.824707\n",
      "Train Epoch: 51 [Iter: 200]\t Gloss: -0.824042 Dloss: 0.824042\n",
      "Train Epoch: 51 [Iter: 300]\t Gloss: -0.829504 Dloss: 0.829504\n",
      "Train Epoch: 52 [Iter: 100]\t Gloss: -0.826219 Dloss: 0.826219\n",
      "Train Epoch: 52 [Iter: 200]\t Gloss: -0.829811 Dloss: 0.829811\n",
      "Train Epoch: 52 [Iter: 300]\t Gloss: -0.829583 Dloss: 0.829583\n",
      "Train Epoch: 53 [Iter: 100]\t Gloss: -0.828307 Dloss: 0.828307\n",
      "Train Epoch: 53 [Iter: 200]\t Gloss: -0.828778 Dloss: 0.828778\n",
      "Train Epoch: 53 [Iter: 300]\t Gloss: -0.828694 Dloss: 0.828694\n",
      "Train Epoch: 54 [Iter: 100]\t Gloss: -0.828707 Dloss: 0.828707\n",
      "Train Epoch: 54 [Iter: 200]\t Gloss: -0.828967 Dloss: 0.828967\n",
      "Train Epoch: 54 [Iter: 300]\t Gloss: -0.831503 Dloss: 0.831503\n",
      "Train Epoch: 55 [Iter: 100]\t Gloss: -0.832237 Dloss: 0.832237\n",
      "Train Epoch: 55 [Iter: 200]\t Gloss: -0.828640 Dloss: 0.828640\n",
      "Train Epoch: 55 [Iter: 300]\t Gloss: -0.829325 Dloss: 0.829325\n",
      "Train Epoch: 56 [Iter: 100]\t Gloss: -0.830074 Dloss: 0.830074\n",
      "Train Epoch: 56 [Iter: 200]\t Gloss: -0.829500 Dloss: 0.829500\n",
      "Train Epoch: 56 [Iter: 300]\t Gloss: -0.830789 Dloss: 0.830789\n",
      "Train Epoch: 57 [Iter: 100]\t Gloss: -0.827468 Dloss: 0.827468\n",
      "Train Epoch: 57 [Iter: 200]\t Gloss: -0.831715 Dloss: 0.831715\n",
      "Train Epoch: 57 [Iter: 300]\t Gloss: -0.826001 Dloss: 0.826001\n",
      "Train Epoch: 58 [Iter: 100]\t Gloss: -0.831095 Dloss: 0.831095\n",
      "Train Epoch: 58 [Iter: 200]\t Gloss: -0.827844 Dloss: 0.827844\n",
      "Train Epoch: 58 [Iter: 300]\t Gloss: -0.826743 Dloss: 0.826743\n",
      "Train Epoch: 59 [Iter: 100]\t Gloss: -0.827054 Dloss: 0.827054\n",
      "Train Epoch: 59 [Iter: 200]\t Gloss: -0.832024 Dloss: 0.832024\n",
      "Train Epoch: 59 [Iter: 300]\t Gloss: -0.832733 Dloss: 0.832733\n",
      "Train Epoch: 60 [Iter: 100]\t Gloss: -0.830405 Dloss: 0.830405\n",
      "Train Epoch: 60 [Iter: 200]\t Gloss: -0.828925 Dloss: 0.828925\n",
      "Train Epoch: 60 [Iter: 300]\t Gloss: -0.831884 Dloss: 0.831884\n",
      "(1, 28, 28)\n",
      "(28, 28)\n"
     ]
    },
    {
     "data": {
      "image/png": "[encoded data removed]",
      "text/plain": [
       "<Figure size 288x288 with 1 Axes>"
      ]
     },
     "metadata": {
      "needs_background": "light"
     },
     "output_type": "display_data"
    },
    {
     "name": "stdout",
     "output_type": "stream",
     "text": [
      "Train Epoch: 61 [Iter: 100]\t Gloss: -0.826995 Dloss: 0.826995\n",
      "Train Epoch: 61 [Iter: 200]\t Gloss: -0.830772 Dloss: 0.830772\n",
      "Train Epoch: 61 [Iter: 300]\t Gloss: -0.830729 Dloss: 0.830729\n",
      "Train Epoch: 62 [Iter: 100]\t Gloss: -0.834545 Dloss: 0.834545\n",
      "Train Epoch: 62 [Iter: 200]\t Gloss: -0.830070 Dloss: 0.830070\n",
      "Train Epoch: 62 [Iter: 300]\t Gloss: -0.831915 Dloss: 0.831915\n",
      "Train Epoch: 63 [Iter: 100]\t Gloss: -0.824455 Dloss: 0.824455\n",
      "Train Epoch: 63 [Iter: 200]\t Gloss: -0.832025 Dloss: 0.832025\n",
      "Train Epoch: 63 [Iter: 300]\t Gloss: -0.827785 Dloss: 0.827785\n",
      "Train Epoch: 64 [Iter: 100]\t Gloss: -0.832986 Dloss: 0.832986\n",
      "Train Epoch: 64 [Iter: 200]\t Gloss: -0.832018 Dloss: 0.832018\n",
      "Train Epoch: 64 [Iter: 300]\t Gloss: -0.832205 Dloss: 0.832205\n",
      "Train Epoch: 65 [Iter: 100]\t Gloss: -0.829201 Dloss: 0.829201\n",
      "Train Epoch: 65 [Iter: 200]\t Gloss: -0.831399 Dloss: 0.831399\n",
      "Train Epoch: 65 [Iter: 300]\t Gloss: -0.826725 Dloss: 0.826725\n",
      "Train Epoch: 66 [Iter: 100]\t Gloss: -0.831970 Dloss: 0.831970\n",
      "Train Epoch: 66 [Iter: 200]\t Gloss: -0.829602 Dloss: 0.829602\n",
      "Train Epoch: 66 [Iter: 300]\t Gloss: -0.827391 Dloss: 0.827391\n",
      "Train Epoch: 67 [Iter: 100]\t Gloss: -0.835983 Dloss: 0.835983\n",
      "Train Epoch: 67 [Iter: 200]\t Gloss: -0.828454 Dloss: 0.828454\n",
      "Train Epoch: 67 [Iter: 300]\t Gloss: -0.828227 Dloss: 0.828227\n",
      "Train Epoch: 68 [Iter: 100]\t Gloss: -0.832417 Dloss: 0.832417\n",
      "Train Epoch: 68 [Iter: 200]\t Gloss: -0.835557 Dloss: 0.835557\n",
      "Train Epoch: 68 [Iter: 300]\t Gloss: -0.833893 Dloss: 0.833893\n",
      "Train Epoch: 69 [Iter: 100]\t Gloss: -0.832713 Dloss: 0.832713\n",
      "Train Epoch: 69 [Iter: 200]\t Gloss: -0.838145 Dloss: 0.838145\n",
      "Train Epoch: 69 [Iter: 300]\t Gloss: -0.837077 Dloss: 0.837077\n",
      "Train Epoch: 70 [Iter: 100]\t Gloss: -0.828709 Dloss: 0.828709\n",
      "Train Epoch: 70 [Iter: 200]\t Gloss: -0.830865 Dloss: 0.830865\n",
      "Train Epoch: 70 [Iter: 300]\t Gloss: -0.828895 Dloss: 0.828895\n",
      "(1, 28, 28)\n",
      "(28, 28)\n"
     ]
    },
    {
     "data": {
      "image/png": "[encoded data removed]",
      "text/plain": [
       "<Figure size 288x288 with 1 Axes>"
      ]
     },
     "metadata": {
      "needs_background": "light"
     },
     "output_type": "display_data"
    },
    {
     "name": "stdout",
     "output_type": "stream",
     "text": [
      "Train Epoch: 71 [Iter: 100]\t Gloss: -0.833040 Dloss: 0.833040\n",
      "Train Epoch: 71 [Iter: 200]\t Gloss: -0.835685 Dloss: 0.835685\n",
      "Train Epoch: 71 [Iter: 300]\t Gloss: -0.836285 Dloss: 0.836285\n",
      "Train Epoch: 72 [Iter: 100]\t Gloss: -0.833829 Dloss: 0.833829\n",
      "Train Epoch: 72 [Iter: 200]\t Gloss: -0.831544 Dloss: 0.831544\n",
      "Train Epoch: 72 [Iter: 300]\t Gloss: -0.836104 Dloss: 0.836104\n",
      "Train Epoch: 73 [Iter: 100]\t Gloss: -0.830903 Dloss: 0.830903\n",
      "Train Epoch: 73 [Iter: 200]\t Gloss: -0.831301 Dloss: 0.831301\n",
      "Train Epoch: 73 [Iter: 300]\t Gloss: -0.832976 Dloss: 0.832976\n",
      "Train Epoch: 74 [Iter: 100]\t Gloss: -0.830673 Dloss: 0.830673\n",
      "Train Epoch: 74 [Iter: 200]\t Gloss: -0.834970 Dloss: 0.834970\n",
      "Train Epoch: 74 [Iter: 300]\t Gloss: -0.827331 Dloss: 0.827331\n",
      "Train Epoch: 75 [Iter: 100]\t Gloss: -0.834905 Dloss: 0.834905\n",
      "Train Epoch: 75 [Iter: 200]\t Gloss: -0.840474 Dloss: 0.840474\n",
      "Train Epoch: 75 [Iter: 300]\t Gloss: -0.838268 Dloss: 0.838268\n",
      "Train Epoch: 76 [Iter: 100]\t Gloss: -0.832155 Dloss: 0.832155\n",
      "Train Epoch: 76 [Iter: 200]\t Gloss: -0.830657 Dloss: 0.830657\n",
      "Train Epoch: 76 [Iter: 300]\t Gloss: -0.831716 Dloss: 0.831716\n",
      "Train Epoch: 77 [Iter: 100]\t Gloss: -0.828472 Dloss: 0.828472\n",
      "Train Epoch: 77 [Iter: 200]\t Gloss: -0.829374 Dloss: 0.829374\n",
      "Train Epoch: 77 [Iter: 300]\t Gloss: -0.839719 Dloss: 0.839719\n",
      "Train Epoch: 78 [Iter: 100]\t Gloss: -0.833469 Dloss: 0.833469\n",
      "Train Epoch: 78 [Iter: 200]\t Gloss: -0.832940 Dloss: 0.832940\n",
      "Train Epoch: 78 [Iter: 300]\t Gloss: -0.831427 Dloss: 0.831427\n",
      "Train Epoch: 79 [Iter: 100]\t Gloss: -0.834949 Dloss: 0.834949\n",
      "Train Epoch: 79 [Iter: 200]\t Gloss: -0.830881 Dloss: 0.830881\n",
      "Train Epoch: 79 [Iter: 300]\t Gloss: -0.830252 Dloss: 0.830252\n",
      "Train Epoch: 80 [Iter: 100]\t Gloss: -0.830794 Dloss: 0.830794\n",
      "Train Epoch: 80 [Iter: 200]\t Gloss: -0.834582 Dloss: 0.834582\n",
      "Train Epoch: 80 [Iter: 300]\t Gloss: -0.835968 Dloss: 0.835968\n",
      "(1, 28, 28)\n",
      "(28, 28)\n"
     ]
    },
    {
     "data": {
      "image/png": "[encoded data removed]",
      "text/plain": [
       "<Figure size 288x288 with 1 Axes>"
      ]
     },
     "metadata": {
      "needs_background": "light"
     },
     "output_type": "display_data"
    },
    {
     "name": "stdout",
     "output_type": "stream",
     "text": [
      "Train Epoch: 81 [Iter: 100]\t Gloss: -0.836958 Dloss: 0.836958\n",
      "Train Epoch: 81 [Iter: 200]\t Gloss: -0.841039 Dloss: 0.841039\n",
      "Train Epoch: 81 [Iter: 300]\t Gloss: -0.831179 Dloss: 0.831179\n",
      "Train Epoch: 82 [Iter: 100]\t Gloss: -0.842517 Dloss: 0.842517\n",
      "Train Epoch: 82 [Iter: 200]\t Gloss: -0.832510 Dloss: 0.832510\n",
      "Train Epoch: 82 [Iter: 300]\t Gloss: -0.836013 Dloss: 0.836013\n",
      "Train Epoch: 83 [Iter: 100]\t Gloss: -0.835855 Dloss: 0.835855\n",
      "Train Epoch: 83 [Iter: 200]\t Gloss: -0.838584 Dloss: 0.838584\n",
      "Train Epoch: 83 [Iter: 300]\t Gloss: -0.832461 Dloss: 0.832461\n",
      "Train Epoch: 84 [Iter: 100]\t Gloss: -0.832783 Dloss: 0.832783\n",
      "Train Epoch: 84 [Iter: 200]\t Gloss: -0.836213 Dloss: 0.836213\n",
      "Train Epoch: 84 [Iter: 300]\t Gloss: -0.832453 Dloss: 0.832453\n",
      "Train Epoch: 85 [Iter: 100]\t Gloss: -0.835969 Dloss: 0.835969\n",
      "Train Epoch: 85 [Iter: 200]\t Gloss: -0.830439 Dloss: 0.830439\n",
      "Train Epoch: 85 [Iter: 300]\t Gloss: -0.845427 Dloss: 0.845427\n",
      "Train Epoch: 86 [Iter: 100]\t Gloss: -0.833742 Dloss: 0.833742\n",
      "Train Epoch: 86 [Iter: 200]\t Gloss: -0.836935 Dloss: 0.836935\n",
      "Train Epoch: 86 [Iter: 300]\t Gloss: -0.831269 Dloss: 0.831269\n",
      "Train Epoch: 87 [Iter: 100]\t Gloss: -0.829434 Dloss: 0.829434\n",
      "Train Epoch: 87 [Iter: 200]\t Gloss: -0.840049 Dloss: 0.840049\n",
      "Train Epoch: 87 [Iter: 300]\t Gloss: -0.834388 Dloss: 0.834388\n",
      "Train Epoch: 88 [Iter: 100]\t Gloss: -0.830899 Dloss: 0.830899\n",
      "Train Epoch: 88 [Iter: 200]\t Gloss: -0.834270 Dloss: 0.834270\n",
      "Train Epoch: 88 [Iter: 300]\t Gloss: -0.831364 Dloss: 0.831364\n",
      "Train Epoch: 89 [Iter: 100]\t Gloss: -0.831803 Dloss: 0.831803\n",
      "Train Epoch: 89 [Iter: 200]\t Gloss: -0.836107 Dloss: 0.836107\n",
      "Train Epoch: 89 [Iter: 300]\t Gloss: -0.833518 Dloss: 0.833518\n",
      "Train Epoch: 90 [Iter: 100]\t Gloss: -0.830378 Dloss: 0.830378\n",
      "Train Epoch: 90 [Iter: 200]\t Gloss: -0.832230 Dloss: 0.832230\n",
      "Train Epoch: 90 [Iter: 300]\t Gloss: -0.833524 Dloss: 0.833524\n",
      "(1, 28, 28)\n",
      "(28, 28)\n"
     ]
    },
    {
     "data": {
      "image/png": "[encoded data removed]",
      "text/plain": [
       "<Figure size 288x288 with 1 Axes>"
      ]
     },
     "metadata": {
      "needs_background": "light"
     },
     "output_type": "display_data"
    },
    {
     "name": "stdout",
     "output_type": "stream",
     "text": [
      "Train Epoch: 91 [Iter: 100]\t Gloss: -0.835635 Dloss: 0.835635\n",
      "Train Epoch: 91 [Iter: 200]\t Gloss: -0.830131 Dloss: 0.830131\n",
      "Train Epoch: 91 [Iter: 300]\t Gloss: -0.836095 Dloss: 0.836095\n",
      "Train Epoch: 92 [Iter: 100]\t Gloss: -0.833605 Dloss: 0.833605\n",
      "Train Epoch: 92 [Iter: 200]\t Gloss: -0.836369 Dloss: 0.836369\n",
      "Train Epoch: 92 [Iter: 300]\t Gloss: -0.835905 Dloss: 0.835905\n",
      "Train Epoch: 93 [Iter: 100]\t Gloss: -0.827221 Dloss: 0.827221\n",
      "Train Epoch: 93 [Iter: 200]\t Gloss: -0.834776 Dloss: 0.834776\n",
      "Train Epoch: 93 [Iter: 300]\t Gloss: -0.835054 Dloss: 0.835054\n",
      "Train Epoch: 94 [Iter: 100]\t Gloss: -0.837781 Dloss: 0.837781\n",
      "Train Epoch: 94 [Iter: 200]\t Gloss: -0.829077 Dloss: 0.829077\n",
      "Train Epoch: 94 [Iter: 300]\t Gloss: -0.838650 Dloss: 0.838650\n",
      "Train Epoch: 95 [Iter: 100]\t Gloss: -0.833136 Dloss: 0.833136\n",
      "Train Epoch: 95 [Iter: 200]\t Gloss: -0.841479 Dloss: 0.841479\n",
      "Train Epoch: 95 [Iter: 300]\t Gloss: -0.837687 Dloss: 0.837687\n",
      "Train Epoch: 96 [Iter: 100]\t Gloss: -0.837901 Dloss: 0.837901\n",
      "Train Epoch: 96 [Iter: 200]\t Gloss: -0.836326 Dloss: 0.836326\n",
      "Train Epoch: 96 [Iter: 300]\t Gloss: -0.835392 Dloss: 0.835392\n",
      "Train Epoch: 97 [Iter: 100]\t Gloss: -0.838177 Dloss: 0.838177\n",
      "Train Epoch: 97 [Iter: 200]\t Gloss: -0.831649 Dloss: 0.831649\n",
      "Train Epoch: 97 [Iter: 300]\t Gloss: -0.839226 Dloss: 0.839226\n",
      "Train Epoch: 98 [Iter: 100]\t Gloss: -0.831399 Dloss: 0.831399\n",
      "Train Epoch: 98 [Iter: 200]\t Gloss: -0.837977 Dloss: 0.837977\n",
      "Train Epoch: 98 [Iter: 300]\t Gloss: -0.839544 Dloss: 0.839544\n",
      "Train Epoch: 99 [Iter: 100]\t Gloss: -0.840909 Dloss: 0.840909\n",
      "Train Epoch: 99 [Iter: 200]\t Gloss: -0.836043 Dloss: 0.836043\n",
      "Train Epoch: 99 [Iter: 300]\t Gloss: -0.832784 Dloss: 0.832784\n",
      "Train Epoch: 100 [Iter: 100]\t Gloss: -0.832429 Dloss: 0.832429\n",
      "Train Epoch: 100 [Iter: 200]\t Gloss: -0.837823 Dloss: 0.837823\n",
      "Train Epoch: 100 [Iter: 300]\t Gloss: -0.835739 Dloss: 0.835739\n",
      "(1, 28, 28)\n",
      "(28, 28)\n"
     ]
    },
    {
     "data": {
      "image/png": "[encoded data removed]",
      "text/plain": [
       "<Figure size 288x288 with 1 Axes>"
      ]
     },
     "metadata": {
      "needs_background": "light"
     },
     "output_type": "display_data"
    }
   ],
   "source": [
    "torch.cuda.set_device(1)\n",
    "_ = train(g_model, d_model, train_loader)"
   ]
  },
  {
   "cell_type": "code",
   "execution_count": 54,
   "metadata": {},
   "outputs": [
    {
     "data": {
      "text/plain": [
       "tensor(1.0018)"
      ]
     },
     "execution_count": 54,
     "metadata": {},
     "output_type": "execute_result"
    }
   ],
   "source": [
    "torch.randn(10000).std()"
   ]
  },
  {
   "cell_type": "code",
   "execution_count": 68,
   "metadata": {},
   "outputs": [
    {
     "data": {
      "text/plain": [
       "tensor([1.])"
      ]
     },
     "execution_count": 68,
     "metadata": {},
     "output_type": "execute_result"
    }
   ],
   "source": [
    "torch.ones(1)"
   ]
  },
  {
   "cell_type": "code",
   "execution_count": null,
   "metadata": {},
   "outputs": [],
   "source": []
  }
 ],
 "metadata": {
  "kernelspec": {
   "display_name": "Python [conda env:pytorch]",
   "language": "python",
   "name": "conda-env-pytorch-py"
  },
  "language_info": {
   "codemirror_mode": {
    "name": "ipython",
    "version": 3
   },
   "file_extension": ".py",
   "mimetype": "text/x-python",
   "name": "python",
   "nbconvert_exporter": "python",
   "pygments_lexer": "ipython3",
   "version": "3.6.6"
  }
 },
 "nbformat": 4,
 "nbformat_minor": 2
}
