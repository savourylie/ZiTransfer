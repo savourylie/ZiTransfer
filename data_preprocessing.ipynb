{
 "cells": [
  {
   "cell_type": "code",
   "execution_count": 1,
   "metadata": {},
   "outputs": [],
   "source": [
    "from glob import glob\n",
    "\n",
    "import cv2\n",
    "import matplotlib.pyplot as plt\n",
    "import numpy as np"
   ]
  },
  {
   "cell_type": "code",
   "execution_count": 4,
   "metadata": {},
   "outputs": [],
   "source": [
    "data_path = '/Users/calvinku/Projects/ZiTransfer/fonts/Osaka/320/'\n",
    "\n",
    "filename_list = glob(data_path + '*.png')"
   ]
  },
  {
   "cell_type": "code",
   "execution_count": 15,
   "metadata": {},
   "outputs": [],
   "source": [
    "img = cv2.imread(filename_list[0], cv2.IMREAD_GRAYSCALE)"
   ]
  },
  {
   "cell_type": "code",
   "execution_count": 16,
   "metadata": {},
   "outputs": [
    {
     "data": {
      "text/plain": [
       "<matplotlib.image.AxesImage at 0x119edc320>"
      ]
     },
     "execution_count": 16,
     "metadata": {},
     "output_type": "execute_result"
    },
    {
     "data": {
      "image/png": "[encoded data removed]",
      "text/plain": [
       "<Figure size 432x288 with 1 Axes>"
      ]
     },
     "metadata": {},
     "output_type": "display_data"
    }
   ],
   "source": [
    "plt.imshow(img)"
   ]
  },
  {
   "cell_type": "code",
   "execution_count": 136,
   "metadata": {},
   "outputs": [],
   "source": [
    "from scipy.ndimage.interpolation import map_coordinates\n",
    "from scipy.ndimage.filters import gaussian_filter\n",
    "\n",
    "def invert_image(img):\n",
    "    \"\"\"\n",
    "    Invert image.\n",
    "    \"\"\"\n",
    "    return 255 - img\n",
    "\n",
    "def adjust_margin(img_inv):\n",
    "    \"\"\"\n",
    "    Adjust margin of the image so that the whitespaces at all sides are similar.\n",
    "    \"\"\"\n",
    "    num_rows, num_cols = img_inv.shape\n",
    "    \n",
    "    row_ind_list, col_ind_list = np.nonzero(img_inv)\n",
    "    \n",
    "    row_min, row_max = row_ind_list.min(), row_ind_list.max()\n",
    "    col_min, col_max = col_ind_list.min(), col_ind_list.max()\n",
    "    \n",
    "    margins = (row_min, (num_rows - row_max), col_min, (num_cols - col_max))\n",
    "    top_margin, bottom_margin, left_margin, right_margin = margins\n",
    "    margin_mean = np.mean(margins)\n",
    "    \n",
    "    margin_cut_list = [int(margin - margin_mean) if margin - margin_mean > 0 else 0 for margin in margins]\n",
    "    margin_pad_list = [int(margin_mean - margin) if margin - margin_mean < 0 else 0 for margin in margins]\n",
    "    \n",
    "    img_cut = img_inv[margin_cut_list[0]:num_rows - margin_cut_list[1], margin_cut_list[2]:num_cols - margin_cut_list[3]]\n",
    "    img_pad = cv2.copyMakeBorder(img_cut, margin_pad_list[0], margin_pad_list[1], margin_pad_list[2], margin_pad_list[3], cv2.BORDER_CONSTANT)\n",
    "\n",
    "    return img_pad\n",
    "\n",
    "def resize(img, size=320):\n",
    "    \"\"\"\n",
    "    \"\"\"\n",
    "    num_rows, num_cols = img_inv.shape\n",
    "    \n",
    "    if num_rows == num_cols:\n",
    "        img_resized = cv2.resize(img,(int(size),int(size)))\n",
    "        \n",
    "    elif num_rows > num_cols:\n",
    "        diff = num_rows - num_cols\n",
    "        \n",
    "        if diff % 2:\n",
    "            img_pad = cv2.copyMakeBorder(img, 0, 0, int(diff // 2), int(diff // 2), cv2.BORDER_CONSTANT)\n",
    "        else:\n",
    "            img_pad = cv2.copyMakeBorder(img, 0, 0, int(diff // 2) + 1, int(diff // 2), cv2.BORDER_CONSTANT)\n",
    "            \n",
    "        img_resized = cv2.resize(img_pad,(int(size),int(size)))\n",
    "        \n",
    "    else:\n",
    "        diff = num_cols - num_rows\n",
    "        \n",
    "        if diff % 2:\n",
    "            img_pad = cv2.copyMakeBorder(img, int(diff // 2), int(diff // 2), 0, 0, cv2.BORDER_CONSTANT)\n",
    "        else:\n",
    "            img_pad = cv2.copyMakeBorder(img, int(diff // 2) + 1, int(diff // 2), 0, 0, cv2.BORDER_CONSTANT)\n",
    "            \n",
    "        img_resized = cv2.resize(img_pad,(int(size),int(size)))\n",
    "    \n",
    "    print(img_resized.shape)\n",
    "    \n",
    "    return img_resized\n",
    "\n",
    "def scale(img, ratio=0.5):\n",
    "    num_rows, num_cols = img_inv.shape\n",
    "    new_rows = int(num_rows * ratio) \n",
    "    new_cols = int(num_cols * ratio)\n",
    "    \n",
    "    if not new_rows % 2:\n",
    "        new_rows += 1\n",
    "    if not new_cols % 2:\n",
    "        new_cols += 1\n",
    "    \n",
    "    row_diff = num_rows - new_rows\n",
    "    col_diff = num_cols - new_cols\n",
    "    \n",
    "    img_scaled = cv2.resize(img, (int(new_rows), int(new_cols)))\n",
    "    img_scaled = cv2.copyMakeBorder(img_scaled, int(row_diff // 2) + 1, int(row_diff // 2), int(col_diff // 2), int(col_diff // 2), cv2.BORDER_CONSTANT)\n",
    "    \n",
    "    return img_scaled\n",
    "\n",
    "def add_salt_and_pepper(img, prob=0.1):\n",
    "    '''Adds \"Salt & Pepper\" noise to an image.\n",
    "    gb: should be one-channel image with pixels in [0, 1] range\n",
    "    prob: probability (threshold) that controls level of noise'''\n",
    "\n",
    "    rnd = np.random.rand(img.shape[0], img.shape[1])\n",
    "    noisy = img.copy()\n",
    "    noisy[rnd < prob] = 0\n",
    "    noisy[rnd > 1 - prob] = 255\n",
    "    \n",
    "    return noisy\n",
    "\n",
    "def add_gaussian(img, mean=0, std=50):\n",
    "    '''Adds \"Salt & Pepper\" noise to an image.\n",
    "    gb: should be one-channel image with pixels in [0, 1] range\n",
    "    prob: probability (threshold) that controls level of noise'''\n",
    "\n",
    "    noise = img.copy()\n",
    "    print(cv2.randn(noise, mean, std).min(), cv2.randn(noise, mean, std).max())\n",
    "    return img + cv2.randn(noise, mean, std)\n",
    "\n",
    "def elastic_transform(image, alpha=50, sigma=10, alpha_affine=15, random_state=None): \n",
    "    \"\"\"Elastic deformation of images as described in [Simard2003]_ (with modifications).\n",
    "    .. [Simard2003] Simard, Steinkraus and Platt, \"Best Practices for\n",
    "         Convolutional Neural Networks applied to Visual Document Analysis\", in\n",
    "         Proc. of the International Conference on Document Analysis and\n",
    "         Recognition, 2003.\n",
    "     Based on https://gist.github.com/erniejunior/601cdf56d2b424757de5\n",
    "    \"\"\" \n",
    "    if random_state is None: \n",
    "        random_state = np.random.RandomState(None) \n",
    "    shape = image.shape \n",
    "    shape_size = shape[:2] \n",
    "    \n",
    "    # Random affine \n",
    "    center_square = np.float32(shape_size) // 2 \n",
    "    square_size = min(shape_size) // 3\n",
    "    \n",
    "    pts1 = np.float32([center_square + square_size, [center_square[0]+square_size, center_square[1]-square_size], center_square - square_size]) \n",
    "    pts2 = pts1 + random_state.uniform(-alpha_affine, alpha_affine, size=pts1.shape).astype(np.float32) \n",
    "    M = cv2.getAffineTransform(pts1, pts2) \n",
    "    image = cv2.warpAffine(image, M, shape_size[::-1], borderMode=cv2.BORDER_REFLECT_101) \n",
    "    dx = gaussian_filter((random_state.rand(*shape) * 2 - 1), sigma) * alpha \n",
    "    dy = gaussian_filter((random_state.rand(*shape) * 2 - 1), sigma) * alpha \n",
    "#     dz = np.zeros_like(dx) \n",
    "    \n",
    "    x, y= np.meshgrid(np.arange(shape[1]), np.arange(shape[0])) \n",
    "#     x, y, z = np.meshgrid(np.arange(shape[1]), np.arange(shape[0]), np.arange(shape[2])) \n",
    "    indices = np.reshape(y+dy, (-1, 1)), np.reshape(x+dx, (-1, 1))\n",
    "    \n",
    "    return map_coordinates(image, indices, order=1, mode='reflect').reshape(shape)"
   ]
  },
  {
   "cell_type": "code",
   "execution_count": 115,
   "metadata": {},
   "outputs": [
    {
     "name": "stdout",
     "output_type": "stream",
     "text": [
      "(320, 320)\n"
     ]
    },
    {
     "data": {
      "text/plain": [
       "<matplotlib.image.AxesImage at 0x11d86f6d8>"
      ]
     },
     "execution_count": 115,
     "metadata": {},
     "output_type": "execute_result"
    },
    {
     "data": {
      "image/png": "[encoded data removed]",
      "text/plain": [
       "<Figure size 432x288 with 1 Axes>"
      ]
     },
     "metadata": {},
     "output_type": "display_data"
    }
   ],
   "source": [
    "img_inv = invert_image(img)\n",
    "\n",
    "plt.imshow(scale(resize(adjust_margin(img_inv))))"
   ]
  },
  {
   "cell_type": "code",
   "execution_count": 226,
   "metadata": {},
   "outputs": [
    {
     "name": "stdout",
     "output_type": "stream",
     "text": [
      "0 221\n",
      "0\n"
     ]
    },
    {
     "data": {
      "text/plain": [
       "<matplotlib.image.AxesImage at 0xb253d7ba8>"
      ]
     },
     "execution_count": 226,
     "metadata": {},
     "output_type": "execute_result"
    },
    {
     "data": {
      "image/png": "[encoded data removed]",
      "text/plain": [
       "<Figure size 432x288 with 1 Axes>"
      ]
     },
     "metadata": {},
     "output_type": "display_data"
    }
   ],
   "source": [
    "print(add_gaussian(img_inv, mean=0).min())\n",
    "\n",
    "plt.imshow(elastic_transform(img_inv, 50, 10, 15))\n"
   ]
  },
  {
   "cell_type": "code",
   "execution_count": null,
   "metadata": {},
   "outputs": [],
   "source": []
  },
  {
   "cell_type": "code",
   "execution_count": null,
   "metadata": {},
   "outputs": [],
   "source": []
  }
 ],
 "metadata": {
  "kernelspec": {
   "display_name": "Python [conda env:pytorch]",
   "language": "python",
   "name": "conda-env-pytorch-py"
  },
  "language_info": {
   "codemirror_mode": {
    "name": "ipython",
    "version": 3
   },
   "file_extension": ".py",
   "mimetype": "text/x-python",
   "name": "python",
   "nbconvert_exporter": "python",
   "pygments_lexer": "ipython3",
   "version": "3.6.5"
  }
 },
 "nbformat": 4,
 "nbformat_minor": 2
}
